{
 "cells": [
  {
   "cell_type": "code",
   "execution_count": null,
   "id": "ca12e7cf",
   "metadata": {},
   "outputs": [],
   "source": [
    "#Ativar o autocomplete\n",
    "%config IPCompleter.greedy=True"
   ]
  },
  {
   "cell_type": "code",
   "execution_count": null,
   "id": "871d5414",
   "metadata": {},
   "outputs": [],
   "source": [
    "import json\n",
    "import pandas as pd\n",
    "from functools import reduce\n",
    "import os\n",
    "from IPython.display import display, HTML"
   ]
  },
  {
   "cell_type": "code",
   "execution_count": null,
   "id": "1fc52837",
   "metadata": {},
   "outputs": [],
   "source": [
    "def display_df(df):\n",
    "    display(HTML(df.to_html()))"
   ]
  },
  {
   "cell_type": "code",
   "execution_count": null,
   "id": "33fd66ad",
   "metadata": {},
   "outputs": [],
   "source": [
    "def json_extract(obj, key):\n",
    "    \"\"\"Recursively fetch values from nested JSON.\"\"\"\n",
    "    arr = []\n",
    "\n",
    "    def extract(obj, arr, key):\n",
    "        \"\"\"Recursively search for values of key in JSON tree.\"\"\"\n",
    "        if isinstance(obj, dict):\n",
    "            for k, v in obj.items():\n",
    "                if isinstance(v, (dict, list)):\n",
    "                    extract(v, arr, key)\n",
    "                elif k == key:\n",
    "                    arr.append(v)\n",
    "        elif isinstance(obj, list):\n",
    "            for item in obj:\n",
    "                extract(item, arr, key)\n",
    "        return arr\n",
    "\n",
    "    values = extract(obj, arr, key)\n",
    "    return values"
   ]
  },
  {
   "cell_type": "code",
   "execution_count": null,
   "id": "e29dbe38",
   "metadata": {},
   "outputs": [],
   "source": [
    "def list_append(obj, key, list):\n",
    "    extracted_data = json_extract(obj, key)\n",
    "    if not extracted_data:\n",
    "        list.append(None)\n",
    "    else:\n",
    "        list.append(extracted_data[0])"
   ]
  },
  {
   "cell_type": "code",
   "execution_count": null,
   "id": "978c1119",
   "metadata": {},
   "outputs": [],
   "source": [
    "def blocks_data_extract(obj):\n",
    "    branches = []\n",
    "    dataviewer_getValue_lists = []\n",
    "    blocks_names = []\n",
    "    if 'project' in obj:\n",
    "        lists = {}\n",
    "        for stage_actors in obj['project']['targets']:\n",
    "            if stage_actors['lists']:\n",
    "                for listID, details in stage_actors['lists'].items():\n",
    "                    lists[listID] = details[0]\n",
    "\n",
    "        speed = {4: 'high', 3: 'medium', 2: 'low', 1: 'zero'}\n",
    "        blocks = []\n",
    "        for stage_actors in obj['project']['targets']:\n",
    "            if stage_actors['blocks']:\n",
    "                for blockID, details in stage_actors['blocks'].items():\n",
    "                    if isinstance(details, dict) and details['shadow'] == False:\n",
    "                        blockName = details['opcode']\n",
    "                        blocks_names.append(blockName)\n",
    "                        if 'LIST_ID' in details['fields']:\n",
    "                            listID = details['fields']['LIST_ID'][0]\n",
    "                            if listID in lists:\n",
    "                                if blockName == 'dataviewer_getValue' and lists[listID] not in dataviewer_getValue_lists:\n",
    "                                    dataviewer_getValue_lists.append(lists[listID])\n",
    "                                blockName = blockName + '(' + lists[listID] + ')'\n",
    "                            else:\n",
    "                                blockName = blockName + '(' + listID + ')'\n",
    "                        if 'WHENTEMPMENU' in details['fields']:\n",
    "                            blockName = blockName + '(' + details['fields']['WHENTEMPMENU'][0] + ')'\n",
    "                        if 'PARTICLESPEED' in details['fields']:\n",
    "                            blockName = blockName + '(' + speed[int(details['fields']['PARTICLESPEED'][0])] + ')'\n",
    "                        blocks.append((blockID, blockName, details['parent']))\n",
    "        \n",
    "        branchesID = []\n",
    "        while len(blocks) > 0:\n",
    "            i = 0\n",
    "            while i < len(blocks):\n",
    "                if blocks[i][2] == None:\n",
    "                    branches.append([blocks[i][1]])\n",
    "                    branchesID.append([blocks[i][0]])\n",
    "                    del blocks[i]\n",
    "                    i -= 1\n",
    "                else:\n",
    "                    for j in range(0, len(branches)):\n",
    "                        if blocks[i][2] in branchesID[j]:\n",
    "                            branches[j].append(blocks[i][1])\n",
    "                            branchesID[j].append(blocks[i][0])\n",
    "                            del blocks[i]\n",
    "                            i -= 1\n",
    "                            break\n",
    "                i += 1\n",
    "    return blocks_names, branches, dataviewer_getValue_lists"
   ]
  },
  {
   "cell_type": "code",
   "execution_count": null,
   "id": "58c9c4c3",
   "metadata": {},
   "outputs": [],
   "source": [
    "projectID = []\n",
    "time = []\n",
    "classname = []\n",
    "event = []\n",
    "block_name = []\n",
    "qty_deleted = []\n",
    "qty_blocks = []\n",
    "all_blocks_names = []\n",
    "all_branches = []\n",
    "qty_branches = []\n",
    "all_dataviewer_getValue_lists = []\n",
    "qty_dataviewer_getValue_lists = []\n",
    "bars_size = 5"
   ]
  },
  {
   "cell_type": "code",
   "execution_count": null,
   "id": "91c06276",
   "metadata": {},
   "outputs": [],
   "source": [
    "path = 'C:\\\\Users\\\\Lucas\\\\Documents\\\\ProjetoCassia\\\\Dados'\n",
    "folders = [name for name in os.listdir(path) if os.path.isdir(os.path.join(path, name))]\n",
    "for folder in folders:\n",
    "    file_path = path + '\\\\' + folder + '\\\\timeline.json'\n",
    "    with open(file_path, 'r', encoding='utf-8') as file:\n",
    "        data = json.load(file)\n",
    "    time_zero = int(next(iter(data))[0:10])\n",
    "    for k in data:\n",
    "        projectID.append(folder)\n",
    "        time.append(int(k[0:10]) - time_zero)    \n",
    "        list_append(data[k], 'classname', classname)\n",
    "        list_append(data[k], 'event', event)\n",
    "        list_append(data[k], 'block', block_name)\n",
    "        list_append(data[k], 'deletedBlocks', qty_deleted)\n",
    "        blocks_data = blocks_data_extract(data[k])\n",
    "        blocksNames = blocks_data[0]\n",
    "        if not blocksNames:\n",
    "            all_blocks_names.append(None)\n",
    "            qty_blocks.append(None)\n",
    "        else:\n",
    "            all_blocks_names.append(blocksNames)\n",
    "            qty_blocks.append(len(blocksNames))\n",
    "        branches = blocks_data[1]\n",
    "        if not branches:\n",
    "            all_branches.append(None)\n",
    "            qty_branches.append(None)\n",
    "        else:\n",
    "            all_branches.append(branches)\n",
    "            qty_branches.append(len(branches))\n",
    "        dataviewer_getValue_lists = blocks_data[2]\n",
    "        if not dataviewer_getValue_lists:\n",
    "            all_dataviewer_getValue_lists.append(None)\n",
    "            qty_dataviewer_getValue_lists.append(None)\n",
    "        else:\n",
    "            all_dataviewer_getValue_lists.append(dataviewer_getValue_lists)\n",
    "            qty_dataviewer_getValue_lists.append(len(dataviewer_getValue_lists))"
   ]
  },
  {
   "cell_type": "code",
   "execution_count": null,
   "id": "507b8a16",
   "metadata": {},
   "outputs": [],
   "source": [
    "df = pd.DataFrame(list(zip(\n",
    "    projectID, time, classname, event, block_name, qty_deleted,\n",
    "    qty_blocks, all_blocks_names, qty_branches, all_branches,\n",
    "    qty_dataviewer_getValue_lists, all_dataviewer_getValue_lists)),\n",
    "                      columns = ['projectID', 'time', 'classname', 'event', 'block_name', 'qty_delete',\n",
    "                                 'qty_blocks', 'all_blocks_names', 'qty_branches', 'all_branches',\n",
    "                                 'qty_dataviewer_getValue_lists', 'all_dataviewer_getValue_lists'])"
   ]
  },
  {
   "cell_type": "code",
   "execution_count": null,
   "id": "408b83fb",
   "metadata": {},
   "outputs": [],
   "source": [
    "display_df(df)"
   ]
  },
  {
   "cell_type": "code",
   "execution_count": null,
   "id": "da4798d5",
   "metadata": {},
   "outputs": [],
   "source": [
    "#Visualização do estado final de cada projeto\n",
    "display_df(df.loc[df[(df.event == 'PROJECT_CHANGED')].groupby('projectID').time.idxmax()])"
   ]
  },
  {
   "cell_type": "code",
   "execution_count": null,
   "id": "1522808f",
   "metadata": {},
   "outputs": [],
   "source": [
    "#Importante: a ordem da lista (event_list) não é a mesma ordem que os dados são gerados no analysis_count.\n",
    "event_list = ['PROJECT_RUN_START', 'PROJECT_RUN_STOP', 'PROJECT_START', 'SCRIPT_GLOW_ON', 'SCRIPT_GLOW_OFF', 'greenFlag*']\n",
    "analysis_count = df[['projectID', 'event']][df.event.isin(event_list)].groupby(['projectID', 'event']).size().unstack(\n",
    "    fill_value=0)\n",
    "analysis_qty_delete = df[['projectID', 'qty_delete']].groupby(['projectID']).agg(['sum'])\n",
    "analysis_qty_delete.columns = ['Blocos_Apagados']\n",
    "analysis_qty_blocks_end = df.loc[df[(df.event == 'PROJECT_CHANGED')].groupby('projectID').time.idxmax()][['projectID',\n",
    "                                                                                                          'qty_blocks']]\n",
    "analysis_qty_blocks_end.set_index('projectID', inplace=True)\n",
    "analysis_qty_blocks_end.columns = ['Qtde_Blocos_Fim']\n",
    "analysis_total_time = df[['projectID', 'time']].groupby(['projectID']).agg(['max'])\n",
    "analysis_total_time.columns = ['Tempo_Total']\n",
    "analysis_total_time['Tempo_Total (min)'] = analysis_total_time['Tempo_Total'].div(60).round(0)\n",
    "analysis_dfs = [analysis_count, analysis_qty_delete, analysis_qty_blocks_end, analysis_total_time]\n",
    "analysis = reduce(lambda  left, right: pd.merge(left, right, left_index=True, right_index=True, how='outer'), analysis_dfs)\n",
    "#Ordenando as colunas\n",
    "analysis = analysis[['PROJECT_RUN_START', 'PROJECT_RUN_STOP', 'SCRIPT_GLOW_ON', 'SCRIPT_GLOW_OFF', 'PROJECT_START',\n",
    "                     'greenFlag*', 'Blocos_Apagados', 'Qtde_Blocos_Fim', 'Tempo_Total', 'Tempo_Total (min)']]"
   ]
  },
  {
   "cell_type": "code",
   "execution_count": null,
   "id": "d419255a",
   "metadata": {},
   "outputs": [],
   "source": [
    "#Forma alternativa de montar as análises\n",
    "#analysis_qty_run_start = df[['projectID', 'event']][(df.event == 'PROJECT_RUN_START')].groupby(['projectID']).agg(['count'])\n",
    "#analysis_qty_run_stop = df[['projectID', 'event']][(df.event == 'PROJECT_RUN_STOP')].groupby(['projectID']).agg(['count'])\n",
    "#analysis_qty_glow_on = df[['projectID', 'event']][(df.event == 'SCRIPT_GLOW_ON')].groupby(['projectID']).agg(['count'])\n",
    "#analysis_qty_glow_off = df[['projectID', 'event']][(df.event == 'SCRIPT_GLOW_OFF')].groupby(['projectID']).agg(['count'])\n",
    "#analysis_qty_start = df[['projectID', 'event']][(df.event == 'PROJECT_START')].groupby(['projectID']).agg(['count'])\n",
    "#analysis_qty_greenflag = df[['projectID', 'event']][(df.event == 'greenFlag*')].groupby(['projectID']).agg(['count'])\n",
    "#analysis_qty_delete = df[['projectID', 'qty_delete']].groupby(['projectID']).agg(['sum'])\n",
    "#analysis_total_time = df[['projectID', 'time']].groupby(['projectID']).agg(['max'])\n",
    "#analysis_qty_blocks_end = df.loc[df[(df.event == 'PROJECT_CHANGED')].groupby('projectID').time.idxmax()][['projectID',\n",
    "#                                                                                                          'qty_blocks']]\n",
    "#analysis_qty_blocks_end.set_index('projectID', inplace=True)\n",
    "#analysis_dfs = [analysis_qty_run_start,  analysis_qty_run_stop, analysis_qty_glow_on, analysis_qty_glow_off,\n",
    "#                analysis_qty_start, analysis_qty_greenflag, analysis_qty_delete, analysis_total_time, analysis_qty_blocks_end]\n",
    "#analysis = reduce(lambda  left, right: pd.merge(left, right, left_index=True, right_index=True, how='outer'), analysis_dfs)\n",
    "#analysis.columns = ['RUN_START', 'RUN_STOP', 'GLOW_ON', 'GLOW_OFF',\n",
    "#                    'START', 'GreenFlag', 'Blocos_Apagados', 'Tempo_Total', 'Qtde_Blocos_Fim']\n",
    "#analysis['Tempo_Total (min)'] = analysis['Tempo_Total'].div(60).round(0)"
   ]
  },
  {
   "cell_type": "code",
   "execution_count": null,
   "id": "923ebad9",
   "metadata": {},
   "outputs": [],
   "source": [
    "display_df(analysis)"
   ]
  },
  {
   "cell_type": "code",
   "execution_count": null,
   "id": "85bb5378",
   "metadata": {},
   "outputs": [],
   "source": [
    "from pathlib import Path\n",
    "data_folder = Path(r\"C:\\Users\\Lucas\\Documents\\ProjetoCassia\\Dados\\1\")\n",
    "df1 = df[df.projectID == '1']\n",
    "df_time_event = df1[['time', 'event']]\n",
    "df_time_classname = df1[['time', 'classname']]\n",
    "df_blocks = df1[['time', 'qty_blocks']].dropna()"
   ]
  },
  {
   "cell_type": "code",
   "execution_count": null,
   "id": "0621d3a4",
   "metadata": {},
   "outputs": [],
   "source": [
    "df_runstop = df_time_event[(df.event == 'PROJECT_RUN_START') | (df.event == 'PROJECT_RUN_STOP')].replace(\n",
    "    ['PROJECT_RUN_START', 'PROJECT_RUN_STOP'], [bars_size, 0])"
   ]
  },
  {
   "cell_type": "code",
   "execution_count": null,
   "id": "77e4ce1f",
   "metadata": {},
   "outputs": [],
   "source": [
    "df_glow = df_time_event[(df.event == 'SCRIPT_GLOW_ON') | (df.event == 'SCRIPT_GLOW_OFF')].replace(\n",
    "    ['SCRIPT_GLOW_ON', 'SCRIPT_GLOW_OFF'], [bars_size, 0])"
   ]
  },
  {
   "cell_type": "code",
   "execution_count": null,
   "id": "1720bcde",
   "metadata": {},
   "outputs": [],
   "source": [
    "df_events_blockdrag = df_time_event[(df.event == 'BLOCK_DRAG_UPDATE')].replace('BLOCK_DRAG_UPDATE', bars_size)"
   ]
  },
  {
   "cell_type": "code",
   "execution_count": null,
   "id": "1ae4363a",
   "metadata": {},
   "outputs": [],
   "source": [
    "df_events_backdrop = df_time_classname.replace('SVGSkin', bars_size)\n",
    "df_events_backdrop.loc[~df['classname'].isin(['SVGSkin']), 'classname'] = 0"
   ]
  },
  {
   "cell_type": "code",
   "execution_count": null,
   "id": "82e2f061",
   "metadata": {},
   "outputs": [],
   "source": [
    "df_events_projectchanged = df_time_event.replace('PROJECT_CHANGED', bars_size)\n",
    "df_events_projectchanged.loc[~df['event'].isin(['PROJECT_CHANGED']), 'event'] = 0"
   ]
  },
  {
   "cell_type": "code",
   "execution_count": null,
   "id": "2e9bf20a",
   "metadata": {},
   "outputs": [],
   "source": [
    "df_events_newsprite = df_time_event.replace('addSprite*', bars_size)\n",
    "df_events_newsprite.loc[~df['event'].isin(['addSprite*']), 'event'] = 0"
   ]
  },
  {
   "cell_type": "code",
   "execution_count": null,
   "id": "1f128b5d",
   "metadata": {},
   "outputs": [],
   "source": [
    "df_events_deleteblock = df_time_event.replace('qty_delete*', bars_size)\n",
    "df_events_deleteblock.loc[~df['event'].isin(['qty_delete*']), 'event'] = 0"
   ]
  },
  {
   "cell_type": "code",
   "execution_count": null,
   "id": "99371edc",
   "metadata": {},
   "outputs": [],
   "source": [
    "df_events_addblock = df_time_event.replace('createBlock*', bars_size)\n",
    "df_events_addblock.loc[~df['event'].isin(['createBlock*']), 'event'] = 0"
   ]
  },
  {
   "cell_type": "code",
   "execution_count": null,
   "id": "f0eb6186",
   "metadata": {},
   "outputs": [],
   "source": [
    "df_events_deletesprite = df_time_event.replace(['deleteSprite*', 'targetWasRemoved*'], bars_size)\n",
    "df_events_deletesprite.loc[~df['event'].isin(['deleteSprite*', 'targetWasRemoved*']), 'event'] = 0"
   ]
  },
  {
   "cell_type": "code",
   "execution_count": null,
   "id": "f5f5a818",
   "metadata": {},
   "outputs": [],
   "source": [
    "df_events_table = df_time_event[(df.event == 'openDataviewerTable*') | (df.event == 'closeDataviewerTable*')].replace(\n",
    "    ['openDataviewerTable*', 'closeDataviewerTable*'], [bars_size, 0])"
   ]
  },
  {
   "cell_type": "code",
   "execution_count": null,
   "id": "514f00b8",
   "metadata": {},
   "outputs": [],
   "source": [
    "import plotly\n",
    "from plotly.subplots import make_subplots\n",
    "import plotly.graph_objects as go"
   ]
  },
  {
   "cell_type": "code",
   "execution_count": null,
   "id": "785923a0",
   "metadata": {},
   "outputs": [],
   "source": [
    "fig = go.Figure()\n",
    "fig = make_subplots(rows=5, cols=1, \n",
    "                    shared_xaxes=True,\n",
    "                    vertical_spacing=0.1)\n",
    "\n",
    "fig.add_trace(go.Bar(\n",
    "    x=df_runstop.time,\n",
    "    y=df_runstop.event,\n",
    "    width=5, \n",
    "    name = 'Project Running'\n",
    "), \n",
    "    row=2, col=1\n",
    ")\n",
    "\n",
    "fig.add_trace(go.Scatter(\n",
    "    x=df_glow.time,\n",
    "    y=df_glow.event,\n",
    "    mode = 'lines',\n",
    "    name = 'Project Glow',\n",
    "    fill=\"tozeroy\",\n",
    "    line = dict(width=1, shape = 'hv') #shape hv define que é uma linha do tipo step\n",
    "), \n",
    "    row=2, col=1\n",
    ")\n",
    "\n",
    "fig.add_trace(go.Scatter(\n",
    "    x=df_events_table.time,\n",
    "    y=df_events_table.event,\n",
    "    mode = 'lines',\n",
    "    name = 'Table open',\n",
    "    fill=\"tozeroy\",\n",
    "    line = dict(color='seagreen', width=1, shape = 'hv') \n",
    "), \n",
    "    row=1, col=1\n",
    ")\n",
    "\n",
    "fig.add_trace(go.Scatter(\n",
    "    x=df_blocks.time,\n",
    "    y=df_blocks.qty_blocks,\n",
    "    #mode = 'lines+markers',\n",
    "    name = 'Blocks used',\n",
    "    fill=\"tozeroy\",\n",
    "    line = dict(color='lightsteelblue', width=1, shape = 'hv') \n",
    "    ), \n",
    "    row=4, col=1\n",
    ")\n",
    "\n",
    "fig.add_trace(go.Bar(\n",
    "    x=df_events_blockdrag.time,\n",
    "    y=df_events_blockdrag.event, \n",
    "    width= 5 , \n",
    "    name = 'Block drag'\n",
    "), \n",
    "    row=5, col=1\n",
    ")\n",
    "\n",
    "fig.add_trace(go.Bar(\n",
    "    x=df_events_newsprite.time,\n",
    "    y=df_events_newsprite.event, \n",
    "    width= 5 , #largura da barra - vai variar dependendo do tempo total do arquivo\n",
    "    name = 'New sprite added'\n",
    "), \n",
    "    row=1, col=1\n",
    ")\n",
    "\n",
    "fig.add_trace(go.Bar(\n",
    "    x=df_events_deletesprite.time,\n",
    "    y=df_events_deletesprite.event, \n",
    "    width= 5 ,\n",
    "    name = 'Sprite deleted'\n",
    "), \n",
    "    row=1, col=1\n",
    ")\n",
    "\n",
    "fig.add_trace(go.Bar(\n",
    "    x=df_events_deleteblock.time,\n",
    "    y=df_events_deleteblock.event, \n",
    "    width= 5 , \n",
    "    name = 'Block deleted'\n",
    "), \n",
    "    row=3, col=1\n",
    ")\n",
    "\n",
    "fig.add_trace(go.Bar(\n",
    "    x=df_events_addblock.time,\n",
    "    y=df_events_addblock.event, \n",
    "    width= 5 , \n",
    "    name = 'Block added'\n",
    "), \n",
    "    row=3, col=1\n",
    ")\n",
    "\n",
    "fig.add_trace(go.Scatter(\n",
    "    x = df_events_backdrop.time,\n",
    "    y = df_events_backdrop.classname,\n",
    "    name = 'Editing backdrop or costume',\n",
    "    mode = 'lines',\n",
    "    fill=\"tozeroy\",\n",
    "    line = dict(color='midnightblue', width=1, shape = 'hv'),\n",
    "), \n",
    "    row=1, col=1\n",
    ")\n",
    "\n",
    "fig.update_layout(\n",
    "    showlegend=True, \n",
    "    plot_bgcolor='rgba(0,0,0,0)',\n",
    "    legend=dict(\n",
    "    orientation=\"h\",\n",
    "    yanchor=\"bottom\",\n",
    "    y=-0.4,\n",
    "    xanchor=\"center\",\n",
    "    x=0.5,\n",
    "    ),\n",
    "    font = dict(size = 8), \n",
    ")"
   ]
  },
  {
   "cell_type": "code",
   "execution_count": null,
   "id": "143b61d2",
   "metadata": {
    "tags": [
     "hide-input"
    ]
   },
   "outputs": [],
   "source": [
    "import glob\n",
    "import re\n",
    "import base64"
   ]
  },
  {
   "cell_type": "code",
   "execution_count": null,
   "id": "3377ce3b",
   "metadata": {},
   "outputs": [],
   "source": [
    "#Adicionando as imagens (screenshots) ao gráfico\n",
    "list_images =  []\n",
    "list_new_images = []\n",
    "\n",
    "file_images = glob.glob(os.path.join(data_folder, '*.jpg')) #adiciona todas as imagens da pasta a uma lista\n",
    "\n",
    "#print (file_images)\n",
    "for fname in file_images:\n",
    "    res = re.findall(\"timeline_(\\d+).jpg\", fname)\n",
    "    if not res: continue\n",
    "    file_new_images = res[0] #res[0] é o número da cada arquivo de imagem, correspondente ao tempo em que foi salvo\n",
    "    list_images.append(res[0]) \n",
    "    new_image_time = int(file_new_images[0:10]) - time_zero\n",
    "    list_new_images.append(new_image_time) \n",
    "#print (list_images)\n",
    "\n",
    "#adding local images to the plot\n",
    "#adicionando múltiplas imagens - uma para cada run\n",
    "i=0\n",
    "length = len(list_images)\n",
    "for i in range(length):\n",
    "    image_filename = file_images[i]  #nome da imagem\n",
    "    screenshot = base64.b64encode(open(data_folder / image_filename, 'rb').read())\n",
    "    fig.add_layout_image(dict(\n",
    "        source='data:image/jpg;base64,{}'.format(screenshot.decode()),\n",
    "        x=list_new_images[i], \n",
    "        y=1,\n",
    "        xref=\"x\",\n",
    "        yref=\"paper\",\n",
    "        )\n",
    "    )\n",
    "\n",
    "fig.update_layout_images(dict(\n",
    "        sizex= 10,#(time_events[-1])/8, #tamanho da imagem - tempo total/10\n",
    "        sizey=4, # time_events[-1])/10, \n",
    "        xanchor=\"right\",\n",
    "        yanchor=\"bottom\"\n",
    "))"
   ]
  },
  {
   "cell_type": "code",
   "execution_count": null,
   "id": "16338528",
   "metadata": {},
   "outputs": [],
   "source": []
  }
 ],
 "metadata": {
  "hide_input": false,
  "kernelspec": {
   "display_name": "Python 3",
   "language": "python",
   "name": "python3"
  },
  "language_info": {
   "codemirror_mode": {
    "name": "ipython",
    "version": 3
   },
   "file_extension": ".py",
   "mimetype": "text/x-python",
   "name": "python",
   "nbconvert_exporter": "python",
   "pygments_lexer": "ipython3",
   "version": "3.8.8"
  }
 },
 "nbformat": 4,
 "nbformat_minor": 5
}
